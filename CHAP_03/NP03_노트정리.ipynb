{
 "cells": [
  {
   "cell_type": "markdown",
   "id": "b7abba16",
   "metadata": {},
   "source": [
    "---\n",
    "### 3장 노트정리 \n",
    "\n",
    "날짜: 2025.09.10\n",
    "\n",
    "저자: 조성훈 \n",
    "\n",
    "학번:202111417"
   ]
  }
 ],
 "metadata": {
  "language_info": {
   "name": "python"
  }
 },
 "nbformat": 4,
 "nbformat_minor": 5
}
