{
 "cells": [
  {
   "cell_type": "markdown",
   "id": "0e0f7382",
   "metadata": {},
   "source": [
    "---\n",
    "### 3장 연습문제 (제어문)\n",
    "\n",
    "날짜: 2025.09.10\n",
    "\n",
    "저자: 조성훈 \n",
    "\n",
    "학번:202111417"
   ]
  },
  {
   "cell_type": "markdown",
   "id": "df7f0d4a",
   "metadata": {},
   "source": [
    "---\n",
    "# 문제 (1)\n",
    "10진수를 입력받아 2진수로 변환하여 출력하는 프로그램"
   ]
  },
  {
   "cell_type": "code",
   "execution_count": 2,
   "id": "d6eb0682",
   "metadata": {},
   "outputs": [
    {
     "name": "stdout",
     "output_type": "stream",
     "text": [
      "2진수 = 1010\n"
     ]
    }
   ],
   "source": [
    "def decimal_to_binary(n: int) -> str:\n",
    "    result = ''\n",
    "    if n == 0:\n",
    "        return \"0\"\n",
    "    while n != 0:\n",
    "        m = n % 2\n",
    "        result = str(m) + result\n",
    "        n = n // 2\n",
    "    return result\n",
    "\n",
    "if __name__ == \"__main__\":\n",
    "    number = int(input(\"Number: \"))\n",
    "    print(\"2진수 =\", decimal_to_binary(number))\n"
   ]
  }
 ],
 "metadata": {
  "kernelspec": {
   "display_name": "Python 3",
   "language": "python",
   "name": "python3"
  },
  "language_info": {
   "codemirror_mode": {
    "name": "ipython",
    "version": 3
   },
   "file_extension": ".py",
   "mimetype": "text/x-python",
   "name": "python",
   "nbconvert_exporter": "python",
   "pygments_lexer": "ipython3",
   "version": "3.11.9"
  }
 },
 "nbformat": 4,
 "nbformat_minor": 5
}
