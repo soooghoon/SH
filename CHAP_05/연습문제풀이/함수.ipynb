{
 "cells": [
  {
   "cell_type": "markdown",
   "id": "f8fd53b9",
   "metadata": {},
   "source": [
    "---\n",
    "### 5장 연습문제 (함수)\n",
    "\n",
    "날짜: 2025.09.17\n",
    "\n",
    "저자: 조성훈 \n",
    "\n",
    "학번:202111417"
   ]
  },
  {
   "cell_type": "markdown",
   "id": "df14c7dc",
   "metadata": {},
   "source": [
    "---\n",
    "# 문제 (1)\n",
    "1. 두개의 매개변수 n, m을 전달받아m x n개의* 상자를 출력하는 프로그램을 함수로 작성\n",
    "예: 2, 4 → **** \n",
    "****\n",
    "\n",
    "2. 하나의 숫자를 전달받아 숫자의 자리합을 구하는 함수를 작성\n",
    "예: 123 → 1+2+3 = 6\n",
    "\n",
    "3. 두개의 문자열이 서로 다른 처음위치를 반환하는 함수를 작성. 두개의 문자열이 같으면 -1을반환\n",
    "\n",
    "4. 숫자를 전달받아 그수의 약수를 리스트로 반환하는함수를 작성\n",
    "\n",
    "5. 문자열과 하나의 문자를 전달받아 문자열에서 문자의위치를 모두 찾아리스트로 반환하는 함수를작성\n",
    "\n",
    "6. 재귀함수를 이용하여 1부터 100까지의합을 계산하는 프로그램"
   ]
  },
  {
   "cell_type": "code",
   "execution_count": 3,
   "id": "b7d05abf",
   "metadata": {},
   "outputs": [],
   "source": [
    "from typing import List\n",
    "\n",
    "# 1. m x n개의 * 상자 출력 함수\n",
    "def print_star_box(n: int, m: int) -> None:\n",
    "    for _ in range(m):\n",
    "        print('*' * n)\n",
    "\n",
    "# 2. 숫자의 자리 합 구하는 함수\n",
    "def digit_sum(num: int) -> int:\n",
    "    return sum(int(digit) for digit in str(num))\n",
    "\n",
    "# 3. 두 문자열이 서로 다른 처음 위치 반환 함수\n",
    "def first_diff_pos(str1: str, str2: str) -> int:\n",
    "    if str1 == str2:\n",
    "        return -1\n",
    "    min_len = min(len(str1), len(str2))\n",
    "    for i in range(min_len):\n",
    "        if str1[i] != str2[i]:\n",
    "            return i\n",
    "    return min_len  # 접두어까지 같고 길이가 다르면 그 다음 위치\n",
    "\n",
    "# 4. 숫자의 약수 리스트 반환 함수\n",
    "def divisors(num: int) -> List[int]:\n",
    "    return [i for i in range(1, num + 1) if num % i == 0]\n",
    "\n",
    "# 5. 문자열에서 특정 문자 위치 리스트 반환 함수\n",
    "def find_all_occurrences(s: str, ch: str) -> List[int]:\n",
    "    return [i for i, c in enumerate(s) if c == ch]\n",
    "\n",
    "# 6. 재귀로 1부터 100까지 합 계산 함수\n",
    "def recursive_sum(n: int) -> int:\n",
    "    if n == 1:\n",
    "        return 1\n",
    "    return n + recursive_sum(n - 1)\n",
    "\n",
    "\n"
   ]
  },
  {
   "cell_type": "code",
   "execution_count": 4,
   "id": "6c08daad",
   "metadata": {},
   "outputs": [
    {
     "name": "stdout",
     "output_type": "stream",
     "text": [
      "1.\n",
      "****\n",
      "****\n",
      "\n",
      "2.\n",
      "6\n",
      "\n",
      "3.\n",
      "2\n",
      "-1\n",
      "\n",
      "4.\n",
      "[1, 2, 3, 4, 6, 12]\n",
      "\n",
      "5.\n",
      "[1, 3, 5]\n",
      "\n",
      "6.\n",
      "5050\n"
     ]
    }
   ],
   "source": [
    "# 테스트 예시\n",
    "if __name__ == \"__main__\":\n",
    "    print(\"1.\")\n",
    "    print_star_box(4, 2)  # 4 x 2 상자\n",
    "\n",
    "    print(\"\\n2.\")\n",
    "    print(digit_sum(123))  # 6\n",
    "\n",
    "    print(\"\\n3.\")\n",
    "    print(first_diff_pos(\"apple\", \"apricot\"))  # 2\n",
    "    print(first_diff_pos(\"hello\", \"hello\"))    # -1\n",
    "\n",
    "    print(\"\\n4.\")\n",
    "    print(divisors(12))  # [1, 2, 3, 4, 6, 12]\n",
    "\n",
    "    print(\"\\n5.\")\n",
    "    print(find_all_occurrences(\"banana\", \"a\"))  # [1, 3, 5]\n",
    "\n",
    "    print(\"\\n6.\")\n",
    "    print(recursive_sum(100))  # 5050"
   ]
  },
  {
   "cell_type": "markdown",
   "id": "4d30d096",
   "metadata": {},
   "source": [
    "---\n",
    "# 문제 (2)"
   ]
  }
 ],
 "metadata": {
  "kernelspec": {
   "display_name": "Python 3",
   "language": "python",
   "name": "python3"
  },
  "language_info": {
   "codemirror_mode": {
    "name": "ipython",
    "version": 3
   },
   "file_extension": ".py",
   "mimetype": "text/x-python",
   "name": "python",
   "nbconvert_exporter": "python",
   "pygments_lexer": "ipython3",
   "version": "3.11.9"
  }
 },
 "nbformat": 4,
 "nbformat_minor": 5
}
