{
 "cells": [
  {
   "cell_type": "markdown",
   "id": "ed74d8c0",
   "metadata": {},
   "source": [
    "---\n",
    "### 5장 노트정리 (함수)\n",
    "\n",
    "날짜: 2025.09.17\n",
    "\n",
    "저자: 조성훈 \n",
    "\n",
    "학번:202111417"
   ]
  }
 ],
 "metadata": {
  "kernelspec": {
   "display_name": "Python 3",
   "language": "python",
   "name": "python3"
  },
  "language_info": {
   "name": "python",
   "version": "3.11.9"
  }
 },
 "nbformat": 4,
 "nbformat_minor": 5
}
