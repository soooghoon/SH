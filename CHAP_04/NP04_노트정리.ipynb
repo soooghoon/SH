{
 "cells": [
  {
   "cell_type": "markdown",
   "id": "f1310c7f",
   "metadata": {},
   "source": [
    "---\n",
    "### 4장 노트정리 \n",
    "\n",
    "날짜: 2025.09.10\n",
    "\n",
    "저자: 조성훈 \n",
    "\n",
    "학번:202111417"
   ]
  },
  {
   "cell_type": "code",
   "execution_count": 8,
   "id": "92239a4a",
   "metadata": {},
   "outputs": [
    {
     "data": {
      "text/plain": [
       "'P'"
      ]
     },
     "execution_count": 8,
     "metadata": {},
     "output_type": "execute_result"
    }
   ],
   "source": [
    "word = 'Python'\n",
    "word[0] "
   ]
  },
  {
   "cell_type": "code",
   "execution_count": 9,
   "id": "0189e4ba",
   "metadata": {},
   "outputs": [
    {
     "data": {
      "text/plain": [
       "'n'"
      ]
     },
     "execution_count": 9,
     "metadata": {},
     "output_type": "execute_result"
    }
   ],
   "source": [
    "word = 'Python'\n",
    "word[5]"
   ]
  },
  {
   "cell_type": "code",
   "execution_count": 10,
   "id": "a0fb4bae",
   "metadata": {},
   "outputs": [
    {
     "data": {
      "text/plain": [
       "'n'"
      ]
     },
     "execution_count": 10,
     "metadata": {},
     "output_type": "execute_result"
    }
   ],
   "source": [
    "word = 'Python'\n",
    "word[-1]"
   ]
  },
  {
   "cell_type": "code",
   "execution_count": null,
   "id": "7ced2768",
   "metadata": {},
   "outputs": [
    {
     "data": {
      "text/plain": [
       "'P'"
      ]
     },
     "execution_count": 11,
     "metadata": {},
     "output_type": "execute_result"
    }
   ],
   "source": [
    "word = 'Python'\n",
    "word[-5]"
   ]
  }
 ],
 "metadata": {
  "kernelspec": {
   "display_name": "Python 3",
   "language": "python",
   "name": "python3"
  },
  "language_info": {
   "codemirror_mode": {
    "name": "ipython",
    "version": 3
   },
   "file_extension": ".py",
   "mimetype": "text/x-python",
   "name": "python",
   "nbconvert_exporter": "python",
   "pygments_lexer": "ipython3",
   "version": "3.11.9"
  }
 },
 "nbformat": 4,
 "nbformat_minor": 5
}
