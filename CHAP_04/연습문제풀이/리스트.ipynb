{
 "cells": [
  {
   "cell_type": "markdown",
   "id": "9d4cc66d",
   "metadata": {},
   "source": [
    "---\n",
    "### 4장 연습문제 (리스트)\n",
    "\n",
    "날짜: 2025.09.10\n",
    "\n",
    "저자: 조성훈 \n",
    "\n",
    "학번:202111417"
   ]
  },
  {
   "cell_type": "markdown",
   "id": "352602fd",
   "metadata": {},
   "source": [
    "---\n",
    "# 문제 (1)\n",
    "3명 이상 친구 이름 리스트를 작성하고 다음 내용을 프로그램하시오\n",
    "\n",
    "insert()로 맨 앞에 새로운 친구 추가 \n",
    "insert()로 3번째 위치에 새로운 친구 추가 \n",
    "append()로 마지막에 친구 추가"
   ]
  },
  {
   "cell_type": "markdown",
   "id": "4626f2b3",
   "metadata": {},
   "source": [
    "---"
   ]
  },
  {
   "cell_type": "code",
   "execution_count": 1,
   "id": "197d949f",
   "metadata": {},
   "outputs": [
    {
     "name": "stdout",
     "output_type": "stream",
     "text": [
      "최종 친구 리스트: ['지수', '성훈', '태민', '세진', '승안', '종민']\n"
     ]
    }
   ],
   "source": [
    "# 3명 이상의 친구 리스트 작성\n",
    "friends = [\"성훈\", \"세진\", \"승안\"]\n",
    "\n",
    "# 맨 앞에 새로운 친구 추가\n",
    "friends.insert(0, \"지수\")\n",
    "\n",
    "# 3번째 위치(인덱스 2)에 새로운 친구 추가\n",
    "friends.insert(2, \"태민\")\n",
    "\n",
    "# 마지막에 친구 추가\n",
    "friends.append(\"종민\")\n",
    "\n",
    "print(\"최종 친구 리스트:\", friends)"
   ]
  },
  {
   "cell_type": "markdown",
   "id": "84320cc3",
   "metadata": {},
   "source": [
    "---\n",
    "# 문제 (2) \n",
    "\n",
    "리스트 [1, 2, 3]에 대해 다음과 같은 처리를 하라.\n",
    "\n",
    "두 번째 요소를 17로 수정 \n",
    "리스트에 4, 5, 6을 추가 \n",
    "첫 번째 요소 제거 \n",
    "리스트를 요소 순서대로 배열하기 • 인덱스 3에 25넣기"
   ]
  },
  {
   "cell_type": "markdown",
   "id": "69b32587",
   "metadata": {},
   "source": [
    "---"
   ]
  },
  {
   "cell_type": "code",
   "execution_count": 2,
   "id": "3075b4df",
   "metadata": {},
   "outputs": [
    {
     "name": "stdout",
     "output_type": "stream",
     "text": [
      "최종 리스트: [3, 4, 5, 25, 6, 17]\n"
     ]
    }
   ],
   "source": [
    "# 초기 리스트\n",
    "nums = [1, 2, 3]\n",
    "\n",
    "# 두 번째 요소를 17로 수정 (인덱스 1 → 값 17)\n",
    "nums[1] = 17\n",
    "\n",
    "# 리스트에 4, 5, 6 추가\n",
    "nums.extend([4, 5, 6])   \n",
    "\n",
    "# 첫 번째 요소 제거\n",
    "nums.pop(0)   \n",
    "\n",
    "# 리스트를 오름차순 정렬\n",
    "nums.sort()\n",
    "\n",
    "# 인덱스 3에 25 넣기\n",
    "nums.insert(3, 25)\n",
    "\n",
    "print(\"최종 리스트:\", nums)"
   ]
  },
  {
   "cell_type": "markdown",
   "id": "3205e692",
   "metadata": {},
   "source": [
    "---\n",
    "# 문제 (3) \n",
    "\n",
    "for 루프를 이용하여 다음과 같은 리스트를 생성하라.\n",
    "\n",
    "0~49까지의 수로 구성되는 리스트\n",
    "1~50까지 수의 제곱으로 구성되는 리스트"
   ]
  },
  {
   "cell_type": "markdown",
   "id": "551a46dc",
   "metadata": {},
   "source": [
    "---"
   ]
  },
  {
   "cell_type": "code",
   "execution_count": 3,
   "id": "3e4d26d9",
   "metadata": {},
   "outputs": [
    {
     "name": "stdout",
     "output_type": "stream",
     "text": [
      "0~49 리스트: [0, 1, 2, 3, 4, 5, 6, 7, 8, 9, 10, 11, 12, 13, 14, 15, 16, 17, 18, 19, 20, 21, 22, 23, 24, 25, 26, 27, 28, 29, 30, 31, 32, 33, 34, 35, 36, 37, 38, 39, 40, 41, 42, 43, 44, 45, 46, 47, 48, 49]\n",
      "1~50 제곱 리스트: [1, 4, 9, 16, 25, 36, 49, 64, 81, 100, 121, 144, 169, 196, 225, 256, 289, 324, 361, 400, 441, 484, 529, 576, 625, 676, 729, 784, 841, 900, 961, 1024, 1089, 1156, 1225, 1296, 1369, 1444, 1521, 1600, 1681, 1764, 1849, 1936, 2025, 2116, 2209, 2304, 2401, 2500]\n"
     ]
    }
   ],
   "source": [
    "# 0~49까지의 수로 구성되는 리스트\n",
    "list1 = [i for i in range(50)]\n",
    "print(\"0~49 리스트:\", list1)\n",
    "\n",
    "# 1~50까지 수의 제곱으로 구성되는 리스트\n",
    "list2 = [i**2 for i in range(1, 51)]\n",
    "print(\"1~50 제곱 리스트:\", list2)"
   ]
  },
  {
   "cell_type": "markdown",
   "id": "a41fa633",
   "metadata": {},
   "source": [
    "---\n",
    "# 문제 (4) \n",
    "\n",
    "크기가 같은 두 개의 리스트 L, M을 생성하고 두 리스트의 각 요소 합으로 구성되는 새로운 리스트를 생성하라. 예를 들어 L=[1,2,3]이고 M=[4,5,6]이면 [5,7,9]인 리스트 생성\n"
   ]
  },
  {
   "cell_type": "markdown",
   "id": "0a40b761",
   "metadata": {},
   "source": [
    "---"
   ]
  },
  {
   "cell_type": "code",
   "execution_count": 4,
   "id": "26ddfcf7",
   "metadata": {},
   "outputs": [
    {
     "name": "stdout",
     "output_type": "stream",
     "text": [
      "두 리스트의 합: [5, 7, 9]\n"
     ]
    }
   ],
   "source": [
    "L = [1, 2, 3]\n",
    "M = [4, 5, 6]\n",
    "\n",
    "sum_list = [x + y for x, y in zip(L, M)]\n",
    "print(\"두 리스트의 합:\", sum_list)   # [5, 7, 9]"
   ]
  },
  {
   "cell_type": "markdown",
   "id": "d3bad777",
   "metadata": {},
   "source": [
    "---\n",
    "# 문제 (5) \n",
    "\n",
    "사용자로부터 5개의 숫자를 문자열로 입력 받아 각 숫자를 +로 연결한 문자열을 생성하라. 예를 들어 2, 5, 11, 33, 55를 입력하면 '2+5+11+33+55'를 생성하라."
   ]
  },
  {
   "cell_type": "markdown",
   "id": "b485aa5b",
   "metadata": {},
   "source": [
    "---"
   ]
  },
  {
   "cell_type": "code",
   "execution_count": 5,
   "id": "e3c9f96f",
   "metadata": {},
   "outputs": [
    {
     "name": "stdout",
     "output_type": "stream",
     "text": [
      "연결된 문자열: 1+2+3+4+5\n"
     ]
    }
   ],
   "source": [
    "# 사용자 입력 (쉼표로 구분해서 입력 받음)\n",
    "nums = input(\"숫자 5개를 콤마(,)로 구분하여 입력하세요: \")\n",
    "\n",
    "# 입력 문자열을 split(\",\")으로 나눠 리스트로 변환\n",
    "num_list = nums.split(\",\")\n",
    "\n",
    "# join()을 이용해 '+'로 연결\n",
    "result = \"+\".join(num_list)\n",
    "print(\"연결된 문자열:\", result)"
   ]
  }
 ],
 "metadata": {
  "kernelspec": {
   "display_name": "Python 3",
   "language": "python",
   "name": "python3"
  },
  "language_info": {
   "codemirror_mode": {
    "name": "ipython",
    "version": 3
   },
   "file_extension": ".py",
   "mimetype": "text/x-python",
   "name": "python",
   "nbconvert_exporter": "python",
   "pygments_lexer": "ipython3",
   "version": "3.11.9"
  }
 },
 "nbformat": 4,
 "nbformat_minor": 5
}
