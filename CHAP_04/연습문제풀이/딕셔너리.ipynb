{
 "cells": [
  {
   "cell_type": "markdown",
   "id": "9d4cc66d",
   "metadata": {},
   "source": [
    "---\n",
    "### 2장 연습문제 (딕서녀리)\n",
    "\n",
    "날짜: 2025.09.10\n",
    "\n",
    "저자: 조성훈 \n",
    "\n",
    "학번:202111417"
   ]
  },
  {
   "cell_type": "markdown",
   "id": "352602fd",
   "metadata": {},
   "source": [
    "---\n",
    "# 문제 (1)\n",
    "#### days = {'January':31, 'February':28, 'March':31, 'April':30,'May':31, 'June':30, 'July':31, 'August':31,'September':30, 'October':31, 'November':30, 'December':31}\n",
    "\n",
    "#### 사용자가 월을 입력하면 해당 월에 일수를 출력하라\n",
    "#### 알파벳 순서로 모든 월을 출력하라\n",
    "#### 일수가 31인 월을 모두 출력하라\n",
    "#### 월의 일수를 기준으로 오름차순으로 (key-value) 쌍을 출력하라\n",
    "#### 사용자가 월을 3자리만 입력하면 월의 일수를 출력하라.(Jan, Feb 등)\n"
   ]
  },
  {
   "cell_type": "markdown",
   "id": "4626f2b3",
   "metadata": {},
   "source": [
    "---"
   ]
  },
  {
   "cell_type": "code",
   "execution_count": 1,
   "id": "3e4d26d9",
   "metadata": {},
   "outputs": [
    {
     "name": "stdout",
     "output_type": "stream",
     "text": [
      "March는 31일까지 있습니다.\n",
      "알파벳 순서의 월 목록:\n",
      "April\n",
      "August\n",
      "December\n",
      "February\n",
      "January\n",
      "July\n",
      "June\n",
      "March\n",
      "May\n",
      "November\n",
      "October\n",
      "September\n",
      "일수가 31일인 월:\n",
      "January\n",
      "March\n",
      "May\n",
      "July\n",
      "August\n",
      "October\n",
      "December\n",
      "일수 기준 오름차순 (월, 일수):\n",
      "February : 28\n",
      "April : 30\n",
      "June : 30\n",
      "September : 30\n",
      "November : 30\n",
      "January : 31\n",
      "March : 31\n",
      "May : 31\n",
      "July : 31\n",
      "August : 31\n",
      "October : 31\n",
      "December : 31\n",
      "January는 31일까지 있습니다.\n"
     ]
    }
   ],
   "source": [
    "days = {\n",
    "    'January': 31, 'February': 28, 'March': 31, 'April': 30,\n",
    "    'May': 31, 'June': 30, 'July': 31, 'August': 31,\n",
    "    'September': 30, 'October': 31, 'November': 30, 'December': 31\n",
    "}\n",
    "\n",
    "# 1. 사용자가 월을 입력하면 해당 월의 일수를 출력\n",
    "month = input(\"월 이름을 입력하세요 (예: March): \")\n",
    "if month in days:\n",
    "    print(f\"{month}는 {days[month]}일까지 있습니다.\")\n",
    "else:\n",
    "    print(\"존재하지 않는 월입니다.\")\n",
    "\n",
    "\n",
    "# 2. 알파벳 순서로 모든 월 출력\n",
    "print(\"알파벳 순서의 월 목록:\")\n",
    "for m in sorted(days.keys()):\n",
    "    print(m)\n",
    "\n",
    "\n",
    "# 3. 일수가 31인 월 출력\n",
    "print(\"일수가 31일인 월:\")\n",
    "for m, d in days.items():\n",
    "    if d == 31:\n",
    "        print(m)\n",
    "\n",
    "# 4. 월의 일수를 기준으로 오름차순으로 (key-value) 쌍 출력\n",
    "print(\"일수 기준 오름차순 (월, 일수):\")\n",
    "for m, d in sorted(days.items(), key=lambda x: x[1]):\n",
    "    print(m, \":\", d)\n",
    "\n",
    "# 5. 월을 3자리만 입력하면 일수를 출력 (예: Jan → January)\n",
    "abbr = input(\"월 이름 3자리 약어를 입력하세요 (예: Jan): \")\n",
    "abbr = abbr.capitalize()   \n",
    "found = False\n",
    "for m in days.keys():\n",
    "    if m.startswith(abbr):\n",
    "        print(f\"{m}는 {days[m]}일까지 있습니다.\")\n",
    "        found = True\n",
    "        break\n",
    "if not found:\n",
    "    print(\"존재하지 않는 월 약어입니다.\")"
   ]
  }
 ],
 "metadata": {
  "kernelspec": {
   "display_name": "Python 3",
   "language": "python",
   "name": "python3"
  },
  "language_info": {
   "codemirror_mode": {
    "name": "ipython",
    "version": 3
   },
   "file_extension": ".py",
   "mimetype": "text/x-python",
   "name": "python",
   "nbconvert_exporter": "python",
   "pygments_lexer": "ipython3",
   "version": "3.11.9"
  }
 },
 "nbformat": 4,
 "nbformat_minor": 5
}
