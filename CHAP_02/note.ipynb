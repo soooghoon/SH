{
 "cells": [
  {
   "cell_type": "markdown",
   "id": "2b968f59",
   "metadata": {},
   "source": [
    "### 2장 노트정리\n",
    "\n",
    "이 파일은 2장 학습하면서 실험한 내용을 정리한 것이다.\n",
    "\n",
    "날짜: 2025.09.09\n",
    "\n",
    "저자: 조성훈"
   ]
  },
  {
   "cell_type": "code",
   "execution_count": null,
   "id": "a48ccf5c",
   "metadata": {},
   "outputs": [
    {
     "ename": "",
     "evalue": "",
     "output_type": "error",
     "traceback": [
      "\u001b[1;31m'.conda (Python 3.11.13)'(으)로 셀을 실행하려면 ipykernel 패키지가 필요합니다.\n",
      "\u001b[1;31m'ipykernel'을(를) Python 환경에 설치합니다. \n",
      "\u001b[1;31m명령: 'conda install -n .conda ipykernel --update-deps --force-reinstall'"
     ]
    }
   ],
   "source": [
    "print(\"Hello, World!\")"
   ]
  },
  {
   "cell_type": "code",
   "execution_count": null,
   "id": "d82e2f2e",
   "metadata": {},
   "outputs": [
    {
     "ename": "",
     "evalue": "",
     "output_type": "error",
     "traceback": [
      "\u001b[1;31m'.conda (Python 3.11.13)'(으)로 셀을 실행하려면 ipykernel 패키지가 필요합니다.\n",
      "\u001b[1;31m'ipykernel'을(를) Python 환경에 설치합니다. \n",
      "\u001b[1;31m명령: 'conda install -n .conda ipykernel --update-deps --force-reinstall'"
     ]
    }
   ],
   "source": [
    "conda install -n .conda ipykernel --update-deps --force-reinstall"
   ]
  }
 ],
 "metadata": {
  "kernelspec": {
   "display_name": ".conda",
   "language": "python",
   "name": "python3"
  },
  "language_info": {
   "name": "python",
   "version": "3.11.13"
  }
 },
 "nbformat": 4,
 "nbformat_minor": 5
}
