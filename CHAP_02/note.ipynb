{
 "cells": [
  {
   "cell_type": "markdown",
   "id": "2b968f59",
   "metadata": {},
   "source": [
    "### 2장 노트정리\n",
    "\n",
    "이 파일은 2장 학습하면서 실험한 내용을 정리한 것이다.\n",
    "\n",
    "날짜: 2025.09.09\n",
    "\n",
    "저자:조성훈"
   ]
  },
  {
   "cell_type": "code",
   "execution_count": 4,
   "id": "a48ccf5c",
   "metadata": {},
   "outputs": [
    {
     "name": "stdout",
     "output_type": "stream",
     "text": [
      "Hello, World!!\n"
     ]
    }
   ],
   "source": [
    "print(\"Hello, World!!\") "
   ]
  },
  {
   "cell_type": "code",
   "execution_count": 5,
   "id": "c2598b8c",
   "metadata": {},
   "outputs": [
    {
     "name": "stdout",
     "output_type": "stream",
     "text": [
      "x = 3\n"
     ]
    }
   ],
   "source": [
    "x = 3 \n",
    "print(\"x =\", x)"
   ]
  }
 ],
 "metadata": {
  "kernelspec": {
   "display_name": "Python 3",
   "language": "python",
   "name": "python3"
  },
  "language_info": {
   "codemirror_mode": {
    "name": "ipython",
    "version": 3
   },
   "file_extension": ".py",
   "mimetype": "text/x-python",
   "name": "python",
   "nbconvert_exporter": "python",
   "pygments_lexer": "ipython3",
   "version": "3.11.9"
  }
 },
 "nbformat": 4,
 "nbformat_minor": 5
}
