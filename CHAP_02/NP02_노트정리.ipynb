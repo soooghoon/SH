{
 "cells": [
  {
   "cell_type": "markdown",
   "id": "2b968f59",
   "metadata": {},
   "source": [
    "### 2장 노트정리\n",
    "\n",
    "이 파일은 2장 학습하면서 실험한 내용을 정리한 것이다.\n",
    "\n",
    "날짜: 2025.09.09\n",
    "\n",
    "저자:조성훈"
   ]
  },
  {
   "cell_type": "code",
   "execution_count": 4,
   "id": "a48ccf5c",
   "metadata": {},
   "outputs": [
    {
     "name": "stdout",
     "output_type": "stream",
     "text": [
      "Hello, World!!\n"
     ]
    }
   ],
   "source": [
    "print(\"Hello, World!!\") "
   ]
  },
  {
   "cell_type": "code",
   "execution_count": 5,
   "id": "c2598b8c",
   "metadata": {},
   "outputs": [
    {
     "name": "stdout",
     "output_type": "stream",
     "text": [
      "x = 3\n"
     ]
    }
   ],
   "source": [
    "x = 3 \n",
    "print(\"x =\", x)"
   ]
  },
  {
   "cell_type": "code",
   "execution_count": 6,
   "id": "a44957a9",
   "metadata": {},
   "outputs": [
    {
     "name": "stdout",
     "output_type": "stream",
     "text": [
      "30\n",
      "동양미래대학교\n",
      "abc abc abc \n",
      "25 32\n",
      "25 + 32 = 57\n"
     ]
    }
   ],
   "source": [
    "print(10+20) #( ) 속의 연산 결과 출력\n",
    "\n",
    "print(\"동양미래대학교\") #문자열 출력\n",
    "\n",
    "print(\"abc \" * 3) #문자열 3번 출력\n",
    "\n",
    "x = 25\n",
    "y = 32\n",
    "z = x + y\n",
    "print(x, y) #변수 x, y 값 출력\n",
    "\n",
    "print(x, '+', y, '=',z) #문자열과 변수의 조합 출력\n"
   ]
  },
  {
   "cell_type": "code",
   "execution_count": 14,
   "id": "b6afcd74",
   "metadata": {},
   "outputs": [
    {
     "name": "stdout",
     "output_type": "stream",
     "text": [
      "30\n",
      "1020\n",
      "abc abc abc \n",
      "n=10\n",
      "m=5.2, n=10\n"
     ]
    }
   ],
   "source": [
    "print(10+20)\n",
    "\n",
    "print(\"10\"+\"20\") #문자열 잇기\n",
    "\n",
    "print(\"abc \" * 3) #문자열 3번 출력\n",
    "\n",
    "n = 10\n",
    "print(\"n=%d\" %n) #서식 지정 출력\n",
    "\n",
    "m = 5.2\n",
    "print(\"m=%.1f, n=%d\" %(m,n)) #%.1f = 소솟점 1자리까지 표시"
   ]
  },
  {
   "cell_type": "code",
   "execution_count": 18,
   "id": "2f700f36",
   "metadata": {},
   "outputs": [
    {
     "data": {
      "text/plain": [
       "True"
      ]
     },
     "execution_count": 18,
     "metadata": {},
     "output_type": "execute_result"
    }
   ],
   "source": [
    " aVar = True\n",
    " bVar = False\n",
    "type(aVar)\n",
    "\n",
    "a = 1\n",
    "b = 2\n",
    "c = a > b\n",
    "c\n",
    "\n",
    "d = a < b\n",
    "d\n"
   ]
  }
 ],
 "metadata": {
  "kernelspec": {
   "display_name": "Python 3",
   "language": "python",
   "name": "python3"
  },
  "language_info": {
   "codemirror_mode": {
    "name": "ipython",
    "version": 3
   },
   "file_extension": ".py",
   "mimetype": "text/x-python",
   "name": "python",
   "nbconvert_exporter": "python",
   "pygments_lexer": "ipython3",
   "version": "3.11.9"
  }
 },
 "nbformat": 4,
 "nbformat_minor": 5
}
