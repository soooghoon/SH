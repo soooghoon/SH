{
 "cells": [
  {
   "cell_type": "markdown",
   "id": "df28126f",
   "metadata": {},
   "source": [
    "---\n",
    "### 2장 연습문제 (산술 및 관계 연산자 연습문제)\n",
    "\n",
    "날짜: 2025.09.10\n",
    "\n",
    "저자: 조성훈 \n",
    "\n",
    "학번:202111417"
   ]
  },
  {
   "cell_type": "markdown",
   "id": "790dcd11",
   "metadata": {},
   "source": [
    "---\n",
    "# 문제 (1)\n",
    "####  5와 3을 더한 값을 출력하는 프로그램을 작성하라."
   ]
  },
  {
   "cell_type": "markdown",
   "id": "7b98dae2",
   "metadata": {},
   "source": [
    "---"
   ]
  },
  {
   "cell_type": "code",
   "execution_count": null,
   "id": "aaac318a",
   "metadata": {},
   "outputs": [
    {
     "name": "stdout",
     "output_type": "stream",
     "text": [
      "8\n"
     ]
    }
   ],
   "source": [
    "print(5 + 3) # 8"
   ]
  },
  {
   "cell_type": "markdown",
   "id": "86689e73",
   "metadata": {},
   "source": [
    "---\n",
    "# 문제 (2)\n",
    "####  7에서 3을 뺀 값을 출력하는 프로그램을 작성하라."
   ]
  },
  {
   "cell_type": "markdown",
   "id": "fbb302c1",
   "metadata": {},
   "source": [
    "---"
   ]
  },
  {
   "cell_type": "code",
   "execution_count": 20,
   "id": "2d811a9c",
   "metadata": {},
   "outputs": [
    {
     "name": "stdout",
     "output_type": "stream",
     "text": [
      "4\n"
     ]
    }
   ],
   "source": [
    "print(7 - 3)"
   ]
  },
  {
   "cell_type": "markdown",
   "id": "8161095a",
   "metadata": {},
   "source": [
    "---\n",
    "# 문제 (3)\n",
    "####  4를 2로 나눈 값을 출력하는 프로그램을 작성하라."
   ]
  },
  {
   "cell_type": "markdown",
   "id": "0b501b0e",
   "metadata": {},
   "source": [
    "---"
   ]
  },
  {
   "cell_type": "code",
   "execution_count": 21,
   "id": "b4ddf00e",
   "metadata": {},
   "outputs": [
    {
     "name": "stdout",
     "output_type": "stream",
     "text": [
      "2.0\n"
     ]
    }
   ],
   "source": [
    "print(4 / 2)"
   ]
  },
  {
   "cell_type": "markdown",
   "id": "3091bf2f",
   "metadata": {},
   "source": [
    "---\n",
    "# 문제 (4)\n",
    "####  8을 3으로 나눈 몫과 나머지를 출력하는 프로그램을 작성하라."
   ]
  },
  {
   "cell_type": "markdown",
   "id": "798df8cc",
   "metadata": {},
   "source": [
    "---"
   ]
  },
  {
   "cell_type": "code",
   "execution_count": 22,
   "id": "d48d1950",
   "metadata": {},
   "outputs": [
    {
     "name": "stdout",
     "output_type": "stream",
     "text": [
      "몫: 2\n",
      "나머지: 2\n"
     ]
    }
   ],
   "source": [
    "print(\"몫:\", 8 // 3)   \n",
    "print(\"나머지:\", 8 % 3)"
   ]
  },
  {
   "cell_type": "markdown",
   "id": "2494f2ce",
   "metadata": {},
   "source": [
    "---\n",
    "# 문제 (5)\n",
    "####  2의 5제곱을 출력하는 프로그램을 작성하라."
   ]
  },
  {
   "cell_type": "markdown",
   "id": "5d02208e",
   "metadata": {},
   "source": [
    "---"
   ]
  },
  {
   "cell_type": "code",
   "execution_count": 23,
   "id": "017c9052",
   "metadata": {},
   "outputs": [
    {
     "name": "stdout",
     "output_type": "stream",
     "text": [
      "32\n"
     ]
    }
   ],
   "source": [
    "print(2 ** 5)"
   ]
  },
  {
   "cell_type": "markdown",
   "id": "3001f519",
   "metadata": {},
   "source": [
    "---\n",
    "# 문제 (6)\n",
    "####  입력된 정수가 10보다 크고 20보다 작은지 검사하는 프로그램을 작성하라."
   ]
  },
  {
   "cell_type": "markdown",
   "id": "7db1a2aa",
   "metadata": {},
   "source": [
    "---"
   ]
  },
  {
   "cell_type": "code",
   "execution_count": 24,
   "id": "c452adfb",
   "metadata": {},
   "outputs": [
    {
     "name": "stdout",
     "output_type": "stream",
     "text": [
      "False\n"
     ]
    }
   ],
   "source": [
    "num = int(input(\"정수를 입력하세요: \"))\n",
    "print(10 < num < 20)   "
   ]
  },
  {
   "cell_type": "markdown",
   "id": "1b8bb250",
   "metadata": {},
   "source": [
    "---\n",
    "# 문제 (7)\n",
    "####  문자열 \"hello\"와 문자열 \"world\"를 이어 붙인 결과를 출력하는 프로그램을 작성하라."
   ]
  },
  {
   "cell_type": "markdown",
   "id": "7378b3c2",
   "metadata": {},
   "source": [
    "---"
   ]
  },
  {
   "cell_type": "code",
   "execution_count": 25,
   "id": "cd6a2974",
   "metadata": {},
   "outputs": [
    {
     "name": "stdout",
     "output_type": "stream",
     "text": [
      "helloworld\n"
     ]
    }
   ],
   "source": [
    "print(\"hello\" + \"world\")"
   ]
  },
  {
   "cell_type": "markdown",
   "id": "408f2033",
   "metadata": {},
   "source": [
    "---\n",
    "# 문제 (8)\n",
    "####  7을 2로 나눈 결과가 3보다 작은지 검사하는 프로그램을 작성하라."
   ]
  },
  {
   "cell_type": "markdown",
   "id": "7b94b867",
   "metadata": {},
   "source": [
    "---"
   ]
  },
  {
   "cell_type": "code",
   "execution_count": 26,
   "id": "3a1921ae",
   "metadata": {},
   "outputs": [
    {
     "name": "stdout",
     "output_type": "stream",
     "text": [
      "False\n"
     ]
    }
   ],
   "source": [
    "print((7 / 2) < 3)"
   ]
  },
  {
   "cell_type": "markdown",
   "id": "16239f68",
   "metadata": {},
   "source": [
    "---\n",
    "# 문제 (9)\n",
    "####  변수 x의 값이 5와 같지 않은지 검사하는 프로그램을 작성하라."
   ]
  },
  {
   "cell_type": "markdown",
   "id": "4655acb9",
   "metadata": {},
   "source": [
    "---"
   ]
  },
  {
   "cell_type": "code",
   "execution_count": 27,
   "id": "80014dee",
   "metadata": {},
   "outputs": [
    {
     "name": "stdout",
     "output_type": "stream",
     "text": [
      "True\n"
     ]
    }
   ],
   "source": [
    "x = int(input(\"x 값을 입력하세요: \"))\n",
    "print(x != 5)"
   ]
  },
  {
   "cell_type": "markdown",
   "id": "f1d9dd78",
   "metadata": {},
   "source": [
    "---\n",
    "# 문제 (10)\n",
    "####  변수 x의 값이 5와 같지 않은지 검사하는 프로그램을 작성하라."
   ]
  },
  {
   "cell_type": "markdown",
   "id": "bad89565",
   "metadata": {},
   "source": [
    "---"
   ]
  },
  {
   "cell_type": "code",
   "execution_count": null,
   "id": "3b62dc8f",
   "metadata": {},
   "outputs": [
    {
     "name": "stdout",
     "output_type": "stream",
     "text": [
      "False\n"
     ]
    }
   ],
   "source": [
    "y = int(input(\"y 값을 입력하시오: \"))\n",
    "print(10 < y < 20)"
   ]
  }
 ],
 "metadata": {
  "kernelspec": {
   "display_name": "Python 3",
   "language": "python",
   "name": "python3"
  },
  "language_info": {
   "codemirror_mode": {
    "name": "ipython",
    "version": 3
   },
   "file_extension": ".py",
   "mimetype": "text/x-python",
   "name": "python",
   "nbconvert_exporter": "python",
   "pygments_lexer": "ipython3",
   "version": "3.11.9"
  }
 },
 "nbformat": 4,
 "nbformat_minor": 5
}
