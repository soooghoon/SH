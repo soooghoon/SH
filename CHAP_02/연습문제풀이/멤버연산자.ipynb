{
 "cells": [
  {
   "cell_type": "markdown",
   "id": "9d4cc66d",
   "metadata": {},
   "source": [
    "\n",
    "---\n",
    "### 2장 연습문제 (멤버연산자)\n",
    "\n",
    "날짜: 2025.09.10\n",
    "\n",
    "저자: 조성훈 \n",
    "\n",
    "학번:202111417"
   ]
  },
  {
   "cell_type": "markdown",
   "id": "7175ccad",
   "metadata": {},
   "source": [
    "---\n",
    "# 문제 (1)\n",
    "#### 숫자 7이 리스트 [1, 2, 3, 4, 5]에 포함되어 있는지 검사하는 프로그램을 작성하라.\n"
   ]
  },
  {
   "cell_type": "markdown",
   "id": "4626f2b3",
   "metadata": {},
   "source": [
    "---"
   ]
  },
  {
   "cell_type": "code",
   "execution_count": 6,
   "id": "197d949f",
   "metadata": {},
   "outputs": [
    {
     "name": "stdout",
     "output_type": "stream",
     "text": [
      "False\n"
     ]
    }
   ],
   "source": [
    "my_list = [1, 2, 3, 4, 5]\n",
    "print(7 in my_list)"
   ]
  },
  {
   "cell_type": "markdown",
   "id": "84320cc3",
   "metadata": {},
   "source": [
    "---\n",
    "# 문제 (2)\n",
    "#### 문자열 \"apple\"이 세트 {\"orange\", \"banana\", \"kiwi\"}에 포함되어 있는지 검사하는 프로그램을 작성하라."
   ]
  },
  {
   "cell_type": "markdown",
   "id": "69b32587",
   "metadata": {},
   "source": [
    "---"
   ]
  },
  {
   "cell_type": "code",
   "execution_count": 7,
   "id": "ecef7577",
   "metadata": {},
   "outputs": [
    {
     "name": "stdout",
     "output_type": "stream",
     "text": [
      "False\n"
     ]
    }
   ],
   "source": [
    "my_set = {\"orange\", \"banana\", \"kiwi\"}\n",
    "print(\"apple\" in my_set)"
   ]
  },
  {
   "cell_type": "markdown",
   "id": "f0d1963f",
   "metadata": {},
   "source": [
    "---\n",
    "# 문제 (3)\n",
    "#### 숫자 6이 딕셔너리 {\"a\": 1, \"b\": 2, \"c\": 3, \"d\": 4}의 값들 중 하나인지 검사하는 프로그램을작성하라."
   ]
  },
  {
   "cell_type": "markdown",
   "id": "63d79000",
   "metadata": {},
   "source": [
    "---"
   ]
  },
  {
   "cell_type": "code",
   "execution_count": 8,
   "id": "3fa8cc94",
   "metadata": {},
   "outputs": [
    {
     "name": "stdout",
     "output_type": "stream",
     "text": [
      "False\n"
     ]
    }
   ],
   "source": [
    "my_dict = {\"a\": 1, \"b\": 2, \"c\": 3, \"d\": 4}\n",
    "print(6 in my_dict.values())"
   ]
  },
  {
   "cell_type": "markdown",
   "id": "446b93c0",
   "metadata": {},
   "source": [
    "---\n",
    "# 문제 (4)\n",
    "#### 문자열 \"cat\"이 튜플 (\"dog\", \"cat\", \"bird\", \"hamster\")에 포함되어 있는지 검사하는 프로그램을 작성하라."
   ]
  },
  {
   "cell_type": "markdown",
   "id": "a65fd6fa",
   "metadata": {},
   "source": [
    "---"
   ]
  },
  {
   "cell_type": "code",
   "execution_count": 9,
   "id": "2384f776",
   "metadata": {},
   "outputs": [
    {
     "name": "stdout",
     "output_type": "stream",
     "text": [
      "True\n"
     ]
    }
   ],
   "source": [
    "my_tuple = (\"dog\", \"cat\", \"bird\", \"hamster\")\n",
    "print(\"cat\" in my_tuple)"
   ]
  },
  {
   "cell_type": "markdown",
   "id": "0eb7fa4c",
   "metadata": {},
   "source": [
    "---\n",
    "# 문제 (5)\n",
    "#### 숫자 10이 세트 {2, 4, 6, 8, 10}에 포함되어 있는지 검사하는 프로그램을 작성하라.\n"
   ]
  },
  {
   "cell_type": "markdown",
   "id": "ec278498",
   "metadata": {},
   "source": [
    "---"
   ]
  },
  {
   "cell_type": "code",
   "execution_count": null,
   "id": "3075b4df",
   "metadata": {},
   "outputs": [
    {
     "name": "stdout",
     "output_type": "stream",
     "text": [
      "True\n"
     ]
    }
   ],
   "source": [
    "my_set2 = {2, 4, 6, 8, 10}\n",
    "print(10 in my_set2)"
   ]
  }
 ],
 "metadata": {
  "kernelspec": {
   "display_name": "Python 3",
   "language": "python",
   "name": "python3"
  },
  "language_info": {
   "codemirror_mode": {
    "name": "ipython",
    "version": 3
   },
   "file_extension": ".py",
   "mimetype": "text/x-python",
   "name": "python",
   "nbconvert_exporter": "python",
   "pygments_lexer": "ipython3",
   "version": "3.11.9"
  }
 },
 "nbformat": 4,
 "nbformat_minor": 5
}
