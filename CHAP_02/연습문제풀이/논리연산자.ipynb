{
 "cells": [
  {
   "cell_type": "markdown",
   "id": "9d4cc66d",
   "metadata": {},
   "source": [
    "---\n",
    "### 2장 연습문제 (논리연산자)\n",
    "\n",
    "날짜: 2025.09.10\n",
    "\n",
    "저자: 조성훈 \n",
    "\n",
    "학번:202111417\n"
   ]
  },
  {
   "cell_type": "markdown",
   "id": "352602fd",
   "metadata": {},
   "source": [
    "---\n",
    "# 문제 (1)\n",
    "#### 5가 3보다 크고 7보다 작은지 검사하는 프로그램을 작성하라."
   ]
  },
  {
   "cell_type": "markdown",
   "id": "4626f2b3",
   "metadata": {},
   "source": [
    "---"
   ]
  },
  {
   "cell_type": "code",
   "execution_count": 9,
   "id": "197d949f",
   "metadata": {},
   "outputs": [
    {
     "name": "stdout",
     "output_type": "stream",
     "text": [
      "True\n"
     ]
    }
   ],
   "source": [
    "print(3 < 5 < 7) "
   ]
  },
  {
   "cell_type": "markdown",
   "id": "84320cc3",
   "metadata": {},
   "source": [
    "---\n",
    "# 문제 (2)\n",
    "#### 변수 x가 10 이상이고 20 이하인지 검사하는 프로그램을 작성하라."
   ]
  },
  {
   "cell_type": "markdown",
   "id": "69b32587",
   "metadata": {},
   "source": [
    "---"
   ]
  },
  {
   "cell_type": "code",
   "execution_count": 10,
   "id": "ecef7577",
   "metadata": {},
   "outputs": [
    {
     "name": "stdout",
     "output_type": "stream",
     "text": [
      "False\n"
     ]
    }
   ],
   "source": [
    "x = int(input(\"x 값을 입력하세요: \"))\n",
    "print(10 <= x <= 20)"
   ]
  },
  {
   "cell_type": "markdown",
   "id": "f0d1963f",
   "metadata": {},
   "source": [
    "---\n",
    "# 문제 (3)\n",
    "#### 변수 y가 5의 배수이거나 7의 배수인지 검사하는 프로그램을 작성하라."
   ]
  },
  {
   "cell_type": "markdown",
   "id": "63d79000",
   "metadata": {},
   "source": [
    "---"
   ]
  },
  {
   "cell_type": "code",
   "execution_count": 11,
   "id": "3fa8cc94",
   "metadata": {},
   "outputs": [
    {
     "name": "stdout",
     "output_type": "stream",
     "text": [
      "False\n"
     ]
    }
   ],
   "source": [
    "y = int(input(\"y 값을 입력하세요: \"))\n",
    "print(y % 5 == 0 or y % 7 == 0)"
   ]
  },
  {
   "cell_type": "markdown",
   "id": "446b93c0",
   "metadata": {},
   "source": [
    "---\n",
    "# 문제 (4)\n",
    "#### 변수 z가 양수이면서 짝수인지 검사하는 프로그램을 작성하라."
   ]
  },
  {
   "cell_type": "markdown",
   "id": "a65fd6fa",
   "metadata": {},
   "source": [
    "---"
   ]
  },
  {
   "cell_type": "code",
   "execution_count": 12,
   "id": "2384f776",
   "metadata": {},
   "outputs": [
    {
     "name": "stdout",
     "output_type": "stream",
     "text": [
      "False\n"
     ]
    }
   ],
   "source": [
    "z = int(input(\"z 값을 입력하세요: \"))\n",
    "print(z > 0 and z % 2 == 0)"
   ]
  },
  {
   "cell_type": "markdown",
   "id": "0eb7fa4c",
   "metadata": {},
   "source": [
    "---\n",
    "# 문제 (5)\n",
    "#### 변수 a가 문자열 \"hello\"나 문자열 \"world\" 중 하나인지 검사하는 프로그램을 작성하라."
   ]
  },
  {
   "cell_type": "markdown",
   "id": "ec278498",
   "metadata": {},
   "source": [
    "---"
   ]
  },
  {
   "cell_type": "code",
   "execution_count": 13,
   "id": "3075b4df",
   "metadata": {},
   "outputs": [
    {
     "name": "stdout",
     "output_type": "stream",
     "text": [
      "True\n"
     ]
    }
   ],
   "source": [
    "a = input(\"문자열 a를 입력하세요: \")\n",
    "print(a == \"hello\" or a == \"world\")"
   ]
  }
 ],
 "metadata": {
  "kernelspec": {
   "display_name": "Python 3",
   "language": "python",
   "name": "python3"
  },
  "language_info": {
   "codemirror_mode": {
    "name": "ipython",
    "version": 3
   },
   "file_extension": ".py",
   "mimetype": "text/x-python",
   "name": "python",
   "nbconvert_exporter": "python",
   "pygments_lexer": "ipython3",
   "version": "3.11.9"
  }
 },
 "nbformat": 4,
 "nbformat_minor": 5
}
