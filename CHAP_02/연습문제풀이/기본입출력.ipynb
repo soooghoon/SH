{
 "cells": [
  {
   "cell_type": "markdown",
   "id": "e4744abc",
   "metadata": {},
   "source": [
    "---\n",
    "### 2장 연습문제 (기본입출력)\n",
    "\n",
    "날짜: 2025.09.10\n",
    "\n",
    "저자: 조성훈 \n",
    "\n",
    "학번: 202111417"
   ]
  },
  {
   "cell_type": "markdown",
   "id": "b27f64ae",
   "metadata": {},
   "source": [
    "---\n",
    "# 문제 (1)\n",
    "#### 키보드에서 임의의 두 실수를 입력 받아 곱한 후 그 결과를 출력하는 프로그램을 작성하고 실행하라"
   ]
  },
  {
   "cell_type": "markdown",
   "id": "11d06687",
   "metadata": {},
   "source": [
    "---"
   ]
  },
  {
   "cell_type": "code",
   "execution_count": 1,
   "id": "53ae1287",
   "metadata": {},
   "outputs": [
    {
     "name": "stdout",
     "output_type": "stream",
     "text": [
      "두 수의 곱은: 6.0\n"
     ]
    }
   ],
   "source": [
    "a = float(input(\"첫 번째 실수를 입력하세요: \"))\n",
    "b = float(input(\"두 번째 실수를 입력하세요: \"))\n",
    "\n",
    "result = a * b\n",
    "\n",
    "# 결과 출력\n",
    "print(\"두 수의 곱은:\", result)"
   ]
  },
  {
   "cell_type": "markdown",
   "id": "f41cda9f",
   "metadata": {},
   "source": [
    "---\n",
    "# 문제 (2)\n",
    "#### 1마일은 1.609km이다. 키보드에서 마일(정수)을 입력 받아 km로 변환해 출력하는 프로그램을작성하고 실행하라"
   ]
  },
  {
   "cell_type": "markdown",
   "id": "d52ddfef",
   "metadata": {},
   "source": [
    "---"
   ]
  },
  {
   "cell_type": "code",
   "execution_count": 2,
   "id": "8d2bd6c3",
   "metadata": {},
   "outputs": [
    {
     "name": "stdout",
     "output_type": "stream",
     "text": [
      "10 마일은 16.09 킬로미터입니다.\n"
     ]
    }
   ],
   "source": [
    "mile = int(input(\"마일을 입력하세요(정수): \"))  \n",
    "km = mile * 1.609  # 변환\n",
    "\n",
    "print(mile, \"마일은\", km, \"킬로미터입니다.\")"
   ]
  },
  {
   "cell_type": "markdown",
   "id": "af5fd54f",
   "metadata": {},
   "source": [
    "---\n",
    "# 문제 (3)\n",
    "#### 원의 반지름을 입력 받아 원의 둘레와 원의 면적을 출력하는 프로그램을 작성하라"
   ]
  },
  {
   "cell_type": "markdown",
   "id": "ddb0aa1b",
   "metadata": {},
   "source": [
    "---"
   ]
  },
  {
   "cell_type": "code",
   "execution_count": 3,
   "id": "e1565ef5",
   "metadata": {},
   "outputs": [
    {
     "name": "stdout",
     "output_type": "stream",
     "text": [
      "원의 둘레는: 75.39822368615503\n",
      "원의 면적은: 452.3893421169302\n"
     ]
    }
   ],
   "source": [
    "import math  \n",
    "\n",
    "r = float(input(\"원의 반지름을 입력하세요: \"))\n",
    "\n",
    "circumference = 2 * math.pi * r   \n",
    "area = math.pi * r * r            \n",
    "\n",
    "print(\"원의 둘레는:\", circumference)\n",
    "print(\"원의 면적은:\", area)"
   ]
  }
 ],
 "metadata": {
  "kernelspec": {
   "display_name": "Python 3",
   "language": "python",
   "name": "python3"
  },
  "language_info": {
   "codemirror_mode": {
    "name": "ipython",
    "version": 3
   },
   "file_extension": ".py",
   "mimetype": "text/x-python",
   "name": "python",
   "nbconvert_exporter": "python",
   "pygments_lexer": "ipython3",
   "version": "3.11.9"
  }
 },
 "nbformat": 4,
 "nbformat_minor": 5
}
