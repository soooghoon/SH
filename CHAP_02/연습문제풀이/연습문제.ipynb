{
 "cells": [
  {
   "cell_type": "markdown",
   "id": "9d4cc66d",
   "metadata": {},
   "source": [
    "---\n",
    "### 2장 연습문제 \n",
    "\n",
    "날짜: 2025.09.10\n",
    "\n",
    "저자: 조성훈 \n",
    "\n",
    "학번:202111417"
   ]
  },
  {
   "cell_type": "markdown",
   "id": "2b55b2d4",
   "metadata": {},
   "source": [
    "---\n",
    "# 문제 (1)\n",
    "#### 초를 입력하면 분과 초로 표시하는 프로그램. 예를 들어, 200초를 입력하면 3분 20초로 표현하라."
   ]
  },
  {
   "cell_type": "markdown",
   "id": "4626f2b3",
   "metadata": {},
   "source": [
    "---"
   ]
  },
  {
   "cell_type": "code",
   "execution_count": 7,
   "id": "197d949f",
   "metadata": {},
   "outputs": [
    {
     "name": "stdout",
     "output_type": "stream",
     "text": [
      "220초는 3분 40초 입니다..\n"
     ]
    }
   ],
   "source": [
    "seconds = int(input(\"초를 입력하세요: \"))\n",
    "minutes = seconds // 60         # 몫: 분\n",
    "remain_seconds = seconds % 60   # 나머지: 초\n",
    "print(f\"{seconds}초는 {minutes}분 {remain_seconds}초 입니다..\")"
   ]
  },
  {
   "cell_type": "markdown",
   "id": "84320cc3",
   "metadata": {},
   "source": [
    "---\n",
    "# 문제 (2)\n",
    "#### 분(min)을 입력 하면, 일, 시간, 분으로 출력하는 프로그램을 만들어라. (예 : 1550분은 1일 1시간 50분)\n"
   ]
  },
  {
   "cell_type": "markdown",
   "id": "69b32587",
   "metadata": {},
   "source": [
    "---"
   ]
  },
  {
   "cell_type": "code",
   "execution_count": 2,
   "id": "ecef7577",
   "metadata": {},
   "outputs": [
    {
     "name": "stdout",
     "output_type": "stream",
     "text": [
      "10분은 0일 0시간 10분 입니다.\n"
     ]
    }
   ],
   "source": [
    "total_minutes = int(input(\"분을 입력하세요: \"))\n",
    "days = total_minutes // (24 * 60)             \n",
    "hours = (total_minutes % (24 * 60)) // 60\n",
    "minutes = total_minutes % 60\n",
    "print(f\"{total_minutes}분은 {days}일 {hours}시간 {minutes}분 입니다.\")"
   ]
  },
  {
   "cell_type": "markdown",
   "id": "f0d1963f",
   "metadata": {},
   "source": [
    "---\n",
    "# 문제 (3)\n",
    "#### 500만원을 년이율 5%로 복리 저금했을 때 5년 후의 원리금의 합계를 출력하는 프로그램\n"
   ]
  },
  {
   "cell_type": "markdown",
   "id": "63d79000",
   "metadata": {},
   "source": [
    "---"
   ]
  },
  {
   "cell_type": "code",
   "execution_count": 3,
   "id": "3fa8cc94",
   "metadata": {},
   "outputs": [
    {
     "name": "stdout",
     "output_type": "stream",
     "text": [
      "5년 후의 원리금 합계는 6381408원 입니다.\n"
     ]
    }
   ],
   "source": [
    "principal = 5000000   \n",
    "rate = 0.05          \n",
    "years = 5\n",
    "amount = principal * ((1 + rate) ** years)\n",
    "print(f\"5년 후의 원리금 합계는 {amount:.0f}원 입니다.\")  "
   ]
  },
  {
   "cell_type": "markdown",
   "id": "446b93c0",
   "metadata": {},
   "source": [
    "---\n",
    "# 문제 (4)\n",
    "#### 1부터 n까지의 합은 n(n+1)/2로 주어진다. 1부터 100까지의 합을 구하여 출력하는 프로그램을작성하고 실행하라.\n"
   ]
  },
  {
   "cell_type": "markdown",
   "id": "a65fd6fa",
   "metadata": {},
   "source": [
    "---"
   ]
  },
  {
   "cell_type": "code",
   "execution_count": 4,
   "id": "2384f776",
   "metadata": {},
   "outputs": [
    {
     "name": "stdout",
     "output_type": "stream",
     "text": [
      "1부터 100까지의 합은 5050 입니다.\n"
     ]
    }
   ],
   "source": [
    "n = 100\n",
    "sum_value = n * (n + 1) // 2\n",
    "print(f\"1부터 100까지의 합은 {sum_value} 입니다.\")"
   ]
  },
  {
   "cell_type": "markdown",
   "id": "0eb7fa4c",
   "metadata": {},
   "source": [
    "---\n",
    "# 문제 (5)\n",
    "#### 판매자가 딸기와 포도를 판매하고 있다. 포도 한 알의 무게는 75g이고 딸기 한 알의 무게는113.5g이다. 사용자로부터 포도 알의 개수와 딸기의 개수를 입력 받아 총 무게를 계산하여 출력하는 프로그램을 작성하고 실행하라.\n"
   ]
  },
  {
   "cell_type": "markdown",
   "id": "ec278498",
   "metadata": {},
   "source": [
    "---"
   ]
  },
  {
   "cell_type": "code",
   "execution_count": 5,
   "id": "3075b4df",
   "metadata": {},
   "outputs": [
    {
     "name": "stdout",
     "output_type": "stream",
     "text": [
      "총 무게는 2262.0 g 입니다.\n"
     ]
    }
   ],
   "source": [
    "grape_count = int(input(\"포도 알의 개수를 입력하세요: \"))\n",
    "strawberry_count = int(input(\"딸기의 개수를 입력하세요: \"))\n",
    "total_weight = grape_count * 75 + strawberry_count * 113.5\n",
    "print(f\"총 무게는 {total_weight} g 입니다.\")"
   ]
  }
 ],
 "metadata": {
  "kernelspec": {
   "display_name": "Python 3",
   "language": "python",
   "name": "python3"
  },
  "language_info": {
   "codemirror_mode": {
    "name": "ipython",
    "version": 3
   },
   "file_extension": ".py",
   "mimetype": "text/x-python",
   "name": "python",
   "nbconvert_exporter": "python",
   "pygments_lexer": "ipython3",
   "version": "3.11.9"
  }
 },
 "nbformat": 4,
 "nbformat_minor": 5
}
