{
 "cells": [
  {
   "cell_type": "markdown",
   "id": "dcd4bf0a",
   "metadata": {},
   "source": [
    "---\n",
    "### 6장 연습문제 (클래스)\n",
    "\n",
    "날짜: 2025.09.24\n",
    "\n",
    "저자: 조성훈 \n",
    "\n",
    "학번:202111417"
   ]
  },
  {
   "cell_type": "markdown",
   "id": "236e5a32",
   "metadata": {},
   "source": [
    "---\n",
    "# 문제 (1)\n",
    "Moneybox 클래스를작성하라. 이클래스는 저축한총액을 저장하는인스턴스 변수가있다. \n",
    "deposit(money) 메서드는 인수로 주어진 금액만큼 저축하고 총액을 출력한다, \n",
    "extract(money) 메소드는 money를 인출하고 총액을 출력한다. get_total() 메소드는 총액을 알려준다.\n",
    "\n",
    "my_money = Moneybox() 객체를 생성하고 1000원을 저축하고, 200원을 인출한 다음, 총액 을 출력하라.\n"
   ]
  },
  {
   "cell_type": "code",
   "execution_count": 1,
   "id": "ace5cd54",
   "metadata": {},
   "outputs": [
    {
     "name": "stdout",
     "output_type": "stream",
     "text": [
      "현재 총액: 1000원\n",
      "현재 총액: 800원\n",
      "800\n"
     ]
    }
   ],
   "source": [
    "class Moneybox:\n",
    "    def __init__(self):\n",
    "        self.total = 0  # 저축한 총액 저장\n",
    "\n",
    "    def deposit(self, money):\n",
    "        self.total += money\n",
    "        print(f\"현재 총액: {self.total}원\")  # 저축 후 총액 출력\n",
    "\n",
    "    def extract(self, money):\n",
    "        self.total -= money\n",
    "        print(f\"현재 총액: {self.total}원\")  # 인출 후 총액 출력\n",
    "\n",
    "    def get_total(self):\n",
    "        return self.total  # 총액 반환\n",
    "\n",
    "# 객체 생성 및 동작 예시\n",
    "my_money = Moneybox()\n",
    "my_money.deposit(1000)   # 1000원 저축\n",
    "my_money.extract(200)    # 200원 인출\n",
    "print(my_money.get_total()) # 총액 출력 (800)\n"
   ]
  },
  {
   "cell_type": "markdown",
   "id": "1b348d70",
   "metadata": {},
   "source": [
    "---\n",
    "# 문제 (2)\n",
    "Password_manager 클래스를 작성하라. 이 클래스는 사용자의 모든과거 패스워드를 저장하\n",
    "는 old_passwords 리스트 변수를 갖는다. 리스트의 마지막요소는 현재패스워드이다. 현재패\n",
    "스워드를 알려주는 get_password와 새로운 패스워드를 설정하는set_password 메소드를 정의하라. set_password는 과거에 사용하지 않은 새로운 패스워드를 설정할때만 유효하다. 문자\n",
    "열을 입력받아 현재 패스워드와 같은지 True 또는 false를 반환하는 is_correct 메소드를정의하라."
   ]
  },
  {
   "cell_type": "code",
   "execution_count": 2,
   "id": "fdb3ad18",
   "metadata": {},
   "outputs": [
    {
     "name": "stdout",
     "output_type": "stream",
     "text": [
      "True\n",
      "True\n",
      "False\n",
      "qwe0987\n",
      "True\n",
      "False\n"
     ]
    }
   ],
   "source": [
    "class Password_manager:\n",
    "    def __init__(self):\n",
    "        self.old_passwords = []\n",
    "\n",
    "    def get_password(self):\n",
    "        if self.old_passwords:\n",
    "            return self.old_passwords[-1]  # 현재(마지막) 패스워드 반환\n",
    "        return None\n",
    "\n",
    "    def set_password(self, new_password):\n",
    "        # 과거에 사용한 적 없는 비밀번호만 허용\n",
    "        if new_password not in self.old_passwords:\n",
    "            self.old_passwords.append(new_password)\n",
    "            return True\n",
    "        else:\n",
    "            return False  # 이미 사용한 패스워드 불가\n",
    "\n",
    "    def is_correct(self, password):\n",
    "        # 입력받은 패스워드가 현재 패스워드와 일치 여부\n",
    "        return password == self.get_password()\n",
    "\n",
    "# 사용 예시\n",
    "pm = Password_manager()\n",
    "print(pm.set_password('abcd1234'))      # True 반환 (최초 등록)\n",
    "print(pm.set_password('qwe0987'))       # True 반환 (새로운 비번)\n",
    "print(pm.set_password('abcd1234'))      # False 반환 (이전 비번 중복)\n",
    "print(pm.get_password())                # 'qwe0987' 출력\n",
    "print(pm.is_correct('qwe0987'))         # True 출력\n",
    "print(pm.is_correct('wrongpw'))         # False 출력\n"
   ]
  },
  {
   "cell_type": "code",
   "execution_count": 3,
   "id": "591673fc",
   "metadata": {},
   "outputs": [
    {
     "name": "stdout",
     "output_type": "stream",
     "text": [
      "True\n",
      "True\n",
      "False\n",
      "xyz789\n",
      "True\n",
      "False\n"
     ]
    }
   ],
   "source": [
    "class Password_manager:\n",
    "    def __init__(self):\n",
    "        self.old_passwords = []\n",
    "\n",
    "    def get_password(self):\n",
    "        if self.old_passwords:\n",
    "            return self.old_passwords[-1]\n",
    "        return None\n",
    "\n",
    "    def set_password(self, new_password):\n",
    "        if new_password not in self.old_passwords:\n",
    "            self.old_passwords.append(new_password)\n",
    "            return True\n",
    "        return False\n",
    "\n",
    "    def is_correct(self, password):\n",
    "        return password == self.get_password()\n",
    "\n",
    "# 사용 예시\n",
    "pm = Password_manager()\n",
    "print(pm.set_password('abc123'))   # True (처음 설정)\n",
    "print(pm.set_password('xyz789'))   # True (새로운 것)\n",
    "print(pm.set_password('abc123'))   # False (이미 사용됨)\n",
    "print(pm.get_password())           # xyz789\n",
    "print(pm.is_correct('xyz789'))     # True\n",
    "print(pm.is_correct('wrongpw'))    # False\n"
   ]
  },
  {
   "cell_type": "markdown",
   "id": "b7093c58",
   "metadata": {},
   "source": [
    "---\n",
    "# 문제 (3)\n",
    "Articles 클래스를 작성하라. 이 클래스는 각각제품의이름, 재고수량, 단가를나타내는\n",
    "name, stock, price 인스턴스 변수를 가지고 있다. offer_price() 메소드는 구매 수량을 인수\n",
    "로 전달받아 총가격을반환한다. 구매수량이 1~10개이하이면 정상가격을반환하고, 11~50개\n",
    "이면5% 할인된 가격을 반환한다. 또51개이상이면 10% 할인해준다. purchase() 메소드는 구매수량을인수로전달받아재고수량을구매수량만큼감소한다.\n",
    "이클래스를 이용하여 단가 1000원인 ”mask“ 를 10,000장으로 설정하고, 40장구매가격과 구매후재고를출력하라."
   ]
  },
  {
   "cell_type": "code",
   "execution_count": 4,
   "id": "df53f333",
   "metadata": {},
   "outputs": [
    {
     "name": "stdout",
     "output_type": "stream",
     "text": [
      "40장 구매가격: 38000\n",
      "구매후 재고: 9960\n"
     ]
    }
   ],
   "source": [
    "class Articles:\n",
    "    def __init__(self, name, stock, price):\n",
    "        self.name = name\n",
    "        self.stock = stock\n",
    "        self.price = price\n",
    "\n",
    "    def offer_price(self, amount):\n",
    "        if 1 <= amount <= 10:\n",
    "            total = self.price * amount\n",
    "        elif 11 <= amount <= 50:\n",
    "            total = int(self.price * amount * 0.95)\n",
    "        elif amount >= 51:\n",
    "            total = int(self.price * amount * 0.90)\n",
    "        else:\n",
    "            total = 0\n",
    "        return total\n",
    "\n",
    "    def purchase(self, amount):\n",
    "        # 구매수량만큼 재고 차감\n",
    "        self.stock -= amount\n",
    "\n",
    "# 단가 1000원, 재고 10,000개로 mask 생성\n",
    "mask = Articles(\"mask\", 10000, 1000)\n",
    "total_price = mask.offer_price(40)\n",
    "mask.purchase(40)\n",
    "print(\"40장 구매가격:\", total_price)         # 40 * 1000 * 0.95 = 38000\n",
    "print(\"구매후 재고:\", mask.stock)           # 9960\n"
   ]
  },
  {
   "cell_type": "markdown",
   "id": "c38e7eaf",
   "metadata": {},
   "source": [
    "---\n",
    "# 문제 (4)\n",
    "다음 프로그램을 실행했을때 아래내용이 출력되도록 클래스를 정의하라. 학번(id) 앞4자리가\n",
    "2018보다 작으면grade() 메소드에의해 “3학년입니다“ 가 출력되고 아니면 ”3학년이아닙니다“가출력된다."
   ]
  },
  {
   "cell_type": "code",
   "execution_count": 5,
   "id": "1d67a0b3",
   "metadata": {},
   "outputs": [
    {
     "name": "stdout",
     "output_type": "stream",
     "text": [
      "이름: 홍길동, 학번: 20150001, 학과: 로봇공학과\n",
      "3학년입니다\n"
     ]
    }
   ],
   "source": [
    "class Student:\n",
    "    def __init__(self, name, id, dept):\n",
    "        self.name = name\n",
    "        self.id = id\n",
    "        self.dept = dept\n",
    "\n",
    "    def grade(self):\n",
    "        # 학번 앞 4자리 추출 (int로 변환)\n",
    "        year = int(str(self.id)[:4])\n",
    "        if year < 2018:\n",
    "            print(\"3학년입니다\")\n",
    "        else:\n",
    "            print(\"3학년이 아닙니다\")\n",
    "\n",
    "# 예시 실행 코드\n",
    "man = Student(name = \"홍길동\", id = 20150001, dept = \"로봇공학과\")\n",
    "print(\"이름: {}, 학번: {}, 학과: {}\".format(man.name, man.id, man.dept))\n",
    "man.grade()\n"
   ]
  },
  {
   "cell_type": "markdown",
   "id": "10e78220",
   "metadata": {},
   "source": [
    "---\n",
    "# 문제 (5)\n",
    "다음 Person 클래스를 상속받는 Employee 클래스를 정의하라. Employee 클래스에\n",
    "employeeID 속성을추가하고 getID() 메소드를정의하라. getID() 메소드는 employeeID를반환하는메소드이다.\n",
    "Employee 클래스를 이용하여 Employee (\"동양\", 65, 2019)로생성된 객체의이름, 나이, ID 를출력하라."
   ]
  },
  {
   "cell_type": "code",
   "execution_count": 6,
   "id": "dc1042b9",
   "metadata": {},
   "outputs": [
    {
     "name": "stdout",
     "output_type": "stream",
     "text": [
      "이름: 동양\n",
      "나이: 65\n",
      "ID: 2019\n"
     ]
    }
   ],
   "source": [
    "class Person:\n",
    "    def __init__(self, name, age):\n",
    "        self.name = name\n",
    "        self.age = age\n",
    "\n",
    "    def getName(self):\n",
    "        print(self.name)\n",
    "\n",
    "    def getAge(self):\n",
    "        print(self.age)\n",
    "\n",
    "class Employee(Person):\n",
    "    def __init__(self, name, age, employeeID):\n",
    "        super().__init__(name, age)\n",
    "        self.employeeID = employeeID\n",
    "\n",
    "    def getID(self):\n",
    "        return self.employeeID\n",
    "\n",
    "# 예시 실행 코드\n",
    "emp = Employee(\"동양\", 65, 2019)\n",
    "print(\"이름:\", emp.name)\n",
    "print(\"나이:\", emp.age)\n",
    "print(\"ID:\", emp.getID())\n"
   ]
  },
  {
   "cell_type": "markdown",
   "id": "ed81538c",
   "metadata": {},
   "source": [
    "---\n",
    "# 문제 (6)\n",
    "앞의 Person 클래스 에서 새로운Person 객체가 생성될때 ID를 1001번지부터 순차적으로 자동으로 부여할수 있도록 Employee 클래스를 포함해서 변경하시오. 새로운Employee객체를 만들어getId() 를 호출할때 Id가중복되면안된다"
   ]
  },
  {
   "cell_type": "code",
   "execution_count": 7,
   "id": "acedb077",
   "metadata": {},
   "outputs": [
    {
     "name": "stdout",
     "output_type": "stream",
     "text": [
      "1001\n",
      "1002\n",
      "1003\n",
      "1004\n"
     ]
    }
   ],
   "source": [
    "class Person:\n",
    "    _count = 1000  # 클래스 변수로 시작 ID 설정(1001부터 시작 위해 1000으로 초기화)\n",
    "\n",
    "    def __init__(self, name, age):\n",
    "        self.name = name\n",
    "        self.age = age\n",
    "        Person._count += 1\n",
    "        self.__id = Person._count  # 자동 증가 ID 부여\n",
    "\n",
    "    def getId(self):\n",
    "        print(self.__id)\n",
    "\n",
    "    def getAge(self):\n",
    "        print(self.age)\n",
    "\n",
    "class Employee(Person):\n",
    "    def __init__(self, name, age):\n",
    "        super().__init__(name, age)\n",
    "\n",
    "    # getId()는 부모 클래스 Person에서 상속받음\n",
    "\n",
    "# 테스트\n",
    "p1 = Person(\"홍길동\", 40)\n",
    "p2 = Person(\"김철수\", 30)\n",
    "e1 = Employee(\"동양\", 65)\n",
    "e2 = Employee(\"서양\", 50)\n",
    "\n",
    "p1.getId()  # 1001 출력\n",
    "p2.getId()  # 1002 출력\n",
    "e1.getId()  # 1003 출력\n",
    "e2.getId()  # 1004 출력\n"
   ]
  },
  {
   "cell_type": "markdown",
   "id": "1c1eae90",
   "metadata": {},
   "source": [
    "---\n",
    "# 문제 (7)\n",
    "파이썬 언어에서 다음에 대해 조사하고 예제코드를 실행하여 보라\n",
    "\n",
    "• 1. 파이썬으로 싱글톤 패턴을구현하는방법들\n",
    "• 2. 파이썬에서 멀티쓰레드구현하는기법\n",
    "• 3. 멀티쓰레드에서 공유 변수에대한Critical Section 을 보호하는 기법"
   ]
  },
  {
   "cell_type": "code",
   "execution_count": 8,
   "id": "e7407ded",
   "metadata": {},
   "outputs": [
    {
     "name": "stdout",
     "output_type": "stream",
     "text": [
      "True\n"
     ]
    }
   ],
   "source": [
    "#파이썬으로 싱글톤 패턴 구현 방법\n",
    "\n",
    "class Singleton:\n",
    "    _instance = None\n",
    "\n",
    "    def __new__(cls, *args, **kwargs):\n",
    "        if not cls._instance:\n",
    "            cls._instance = super().__new__(cls)\n",
    "        return cls._instance\n",
    "\n",
    "# 테스트\n",
    "s1 = Singleton()\n",
    "s2 = Singleton()\n",
    "print(s1 is s2)  # True 출력, 두 변수는 같은 인스턴스\n",
    "\n",
    "\n"
   ]
  },
  {
   "cell_type": "code",
   "execution_count": 9,
   "id": "63313411",
   "metadata": {},
   "outputs": [
    {
     "name": "stdout",
     "output_type": "stream",
     "text": [
      "Thread 0 시작\n",
      "Thread 1 시작\n",
      "Thread 2 시작\n"
     ]
    },
    {
     "name": "stdout",
     "output_type": "stream",
     "text": [
      "Thread 0 종료\n",
      "Thread 1 종료\n",
      "Thread 2 종료\n",
      "모든 쓰레드 종료\n"
     ]
    }
   ],
   "source": [
    "#파이썬에서 멀티쓰레드 구현 기법\n",
    "\n",
    "import threading\n",
    "import time\n",
    "\n",
    "def worker(num):\n",
    "    print(f\"Thread {num} 시작\")\n",
    "    time.sleep(1)\n",
    "    print(f\"Thread {num} 종료\")\n",
    "\n",
    "threads = []\n",
    "for i in range(3):\n",
    "    t = threading.Thread(target=worker, args=(i,))\n",
    "    threads.append(t)\n",
    "    t.start()\n",
    "\n",
    "for t in threads:\n",
    "    t.join()\n",
    "\n",
    "print(\"모든 쓰레드 종료\")\n",
    "\n"
   ]
  },
  {
   "cell_type": "code",
   "execution_count": 10,
   "id": "277ef99b",
   "metadata": {},
   "outputs": [
    {
     "name": "stdout",
     "output_type": "stream",
     "text": [
      "100\n"
     ]
    }
   ],
   "source": [
    "# 멀티쓰레드에서 공유 변수 Critical Section 보호 기법\n",
    "import threading\n",
    "\n",
    "lock = threading.Lock()\n",
    "shared_var = 0\n",
    "\n",
    "def safe_increment():\n",
    "    global shared_var\n",
    "    with lock:  # 락 획득\n",
    "        temp = shared_var\n",
    "        temp += 1\n",
    "        shared_var = temp  # 임계 구역: 한 번에 한 스레드만 접근 가능\n",
    "\n",
    "threads = []\n",
    "for i in range(100):\n",
    "    t = threading.Thread(target=safe_increment)\n",
    "    threads.append(t)\n",
    "    t.start()\n",
    "\n",
    "for t in threads:\n",
    "    t.join()\n",
    "\n",
    "print(shared_var)  # 100 출력, 락 없으면 값이 틀릴 수 있음\n"
   ]
  },
  {
   "cell_type": "markdown",
   "id": "4c95a23f",
   "metadata": {},
   "source": [
    "---\n",
    "# 문제 (8)\n",
    "개나 고양이 객체들을 리스트로 생성하고 개나 Animal 변수로 받아 동적 바인딩이 되는지 확인\n",
    "하시오.\n",
    "\n",
    "모든 객체들이 울게 하는 함수를 작성하여 테스트하시오.\n"
   ]
  },
  {
   "cell_type": "code",
   "execution_count": 11,
   "id": "2ef61955",
   "metadata": {},
   "outputs": [
    {
     "name": "stdout",
     "output_type": "stream",
     "text": [
      "멍멍\n",
      "야옹\n",
      "멍멍\n",
      "야옹\n",
      "[<__main__.Dog object at 0x000002CACB924310>, <__main__.Cat object at 0x000002CACB971050>, <__main__.Dog object at 0x000002CACB92AF50>, <__main__.Cat object at 0x000002CACB971A90>]\n",
      "멍멍\n",
      "멍멍\n",
      "야옹\n",
      "멍멍\n",
      "야옹\n",
      "총 동물의 수: 7\n",
      "총 동물의 수: 5\n"
     ]
    }
   ],
   "source": [
    "from abc import ABC, abstractmethod\n",
    "\n",
    "class Animal(ABC):\n",
    "    _count = 0  # 생성된 동물 객체 수 저장\n",
    "    \n",
    "    def __init__(self, name):\n",
    "        self.name = name\n",
    "        Animal._count += 1  # 객체 생성 시 증가\n",
    "    \n",
    "    def __del__(self):\n",
    "        Animal._count -= 1  # 객체 삭제 시 감소\n",
    "    \n",
    "    @abstractmethod\n",
    "    def sound(self):\n",
    "        pass\n",
    "    \n",
    "    @staticmethod\n",
    "    def get_animal_count():\n",
    "        return Animal._count\n",
    "\n",
    "class Dog(Animal):\n",
    "    def sound(self):\n",
    "        return \"멍멍\"\n",
    "\n",
    "class Cat(Animal):\n",
    "    def sound(self):\n",
    "        return \"야옹\"\n",
    "\n",
    "def animal_sound(animal: Animal):\n",
    "    print(animal.sound())\n",
    "\n",
    "def animal_sounds(animal_list: list[Animal]):\n",
    "    for animal in animal_list:\n",
    "        print(animal.sound())\n",
    "\n",
    "if __name__ == \"__main__\":\n",
    "    dog : Dog = Dog(\"바둑이\")\n",
    "    print(dog.sound())  # 멍멍\n",
    "    \n",
    "    cat = Cat(\"야옹이\")\n",
    "    print(cat.sound())  # 야옹\n",
    "    \n",
    "    any : Animal = Dog(\"바둑이2\")\n",
    "    print(any.sound())  # 멍멍\n",
    "    \n",
    "    any : Animal = Cat(\"야옹이2\")\n",
    "    print(any.sound())  # 야옹\n",
    "    \n",
    "    alist : list[Animal] = [Dog(\"바둑이a\"), Cat(\"나비b\"), Dog(\"멍멍이c\"), Cat(\"야옹이d\")]\n",
    "    print(alist)  # 리스트 출력\n",
    "    \n",
    "    animal_sound(alist[2])  # 멍멍 출력\n",
    "    animal_sounds(alist)    # 멍멍, 야옹, 멍멍, 야옹 순 출력\n",
    "    \n",
    "    print(f\"총 동물의 수: {Animal.get_animal_count()}\")  # 8\n",
    "    \n",
    "    del dog\n",
    "    del cat\n",
    "    \n",
    "    print(f\"총 동물의 수: {Animal.get_animal_count()}\")  # 6\n"
   ]
  }
 ],
 "metadata": {
  "kernelspec": {
   "display_name": "Python 3",
   "language": "python",
   "name": "python3"
  },
  "language_info": {
   "codemirror_mode": {
    "name": "ipython",
    "version": 3
   },
   "file_extension": ".py",
   "mimetype": "text/x-python",
   "name": "python",
   "nbconvert_exporter": "python",
   "pygments_lexer": "ipython3",
   "version": "3.11.9"
  }
 },
 "nbformat": 4,
 "nbformat_minor": 5
}
