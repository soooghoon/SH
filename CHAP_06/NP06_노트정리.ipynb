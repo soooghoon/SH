{
 "cells": [
  {
   "cell_type": "markdown",
   "id": "6f1796da",
   "metadata": {},
   "source": [
    "---\n",
    "### 6장 노트정리 (클래스)\n",
    "\n",
    "날짜: 2025.09.24\n",
    "\n",
    "저자: 조성훈 \n",
    "\n",
    "학번:202111417"
   ]
  }
 ],
 "metadata": {
  "kernelspec": {
   "display_name": "Python 3",
   "language": "python",
   "name": "python3"
  },
  "language_info": {
   "name": "python",
   "version": "3.11.9"
  }
 },
 "nbformat": 4,
 "nbformat_minor": 5
}
